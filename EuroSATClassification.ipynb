{
  "nbformat": 4,
  "nbformat_minor": 0,
  "metadata": {
    "colab": {
      "provenance": [],
      "gpuType": "T4"
    },
    "kernelspec": {
      "name": "python3",
      "display_name": "Python 3"
    },
    "language_info": {
      "name": "python"
    },
    "accelerator": "GPU"
  },
  "cells": [
    {
      "cell_type": "markdown",
      "source": [
        "Image classification notebook\n",
        "\n",
        "Import packages"
      ],
      "metadata": {
        "id": "8WlsnTE-UI11"
      }
    },
    {
      "cell_type": "code",
      "execution_count": 1,
      "metadata": {
        "id": "RRqvhr5RSoGs"
      },
      "outputs": [],
      "source": [
        "from skimage import io\n",
        "import torch\n",
        "from torchvision import models\n",
        "import torchvision\n",
        "import torch.nn as nn\n",
        "import numpy as np\n",
        "import random\n",
        "from IPython.display import clear_output\n",
        "import time\n",
        "import os.path\n",
        "from sklearn.metrics import f1_score\n",
        "import matplotlib.pyplot as plt\n",
        "import torch.optim as optim\n",
        "import torch.optim.lr_scheduler\n",
        "import torch.nn.init\n",
        "from torch.autograd import Variable\n",
        "from sklearn.metrics import accuracy_score\n",
        "from skimage.transform import resize\n",
        "from sklearn.model_selection import train_test_split"
      ]
    },
    {
      "cell_type": "markdown",
      "source": [
        "Define image loader"
      ],
      "metadata": {
        "id": "Seq8jwS6VG-j"
      }
    },
    {
      "cell_type": "code",
      "source": [
        "def iloader(path):\n",
        "  image = np.asarray((io.imread(path))/32000, dtype='float32')\n",
        "  return image.transpose(2, 0, 1)"
      ],
      "metadata": {
        "id": "k1heHUZ1VLVV"
      },
      "execution_count": 2,
      "outputs": []
    },
    {
      "cell_type": "markdown",
      "source": [
        "Loading the data"
      ],
      "metadata": {
        "id": "d537_xkjVqAI"
      }
    },
    {
      "cell_type": "code",
      "source": [
        "def load_data():\n",
        "    data = torchvision.datasets.DatasetFolder(root=root,loader = iloader, transform=None, extensions = 'jpg')\n",
        "    train_set, val_set = train_test_split(data, test_size=0.2, stratify=data.targets)\n",
        "    train_loader = torch.utils.data.DataLoader(train_set, batch_size=16, shuffle=True, num_workers=3, drop_last = True)\n",
        "    val_loader = torch.utils.data.DataLoader(val_set, batch_size=16, shuffle=True, num_workers=0, drop_last = True)\n",
        "    return train_loader, val_loader #,test_loader"
      ],
      "metadata": {
        "id": "NIeHdeEwWTWE"
      },
      "execution_count": 14,
      "outputs": []
    },
    {
      "cell_type": "markdown",
      "source": [
        "Download the data"
      ],
      "metadata": {
        "id": "VK30Ln63Yvuy"
      }
    },
    {
      "cell_type": "code",
      "source": [
        "data_folder = '/content/sample_data/'\n",
        "root = '2750/'\n",
        "down_where = os.path.exists(root)\n",
        "if not down_where:\n",
        "  os.system('wget http://madm.dfki.de/files/sentinel/EuroSAT.zip')\n",
        "  !unzip EuroSAT.zip\n",
        "  down_where = True"
      ],
      "metadata": {
        "id": "JQICGehwYyhz"
      },
      "execution_count": 15,
      "outputs": []
    },
    {
      "cell_type": "markdown",
      "source": [
        "Augmentation"
      ],
      "metadata": {
        "id": "hviwjQjTYFd5"
      }
    },
    {
      "cell_type": "code",
      "source": [
        "def sigmoid(z):\n",
        "  return 1/(1+np.exp(-z))\n",
        "\n",
        "def custom_aug(data):\n",
        "  data = torch.rot90(data,random.randint(-3,3), dims=random.choice([[3,2],[2,3]]))\n",
        "  if random.random()>0.75:\n",
        "    data = torch.flip(data, dims = random.choice([[2,],[3,],[2,3]]))\n",
        "  pixmis = torch.empty_like(data).random_(data.shape[-1])\n",
        "  pixmis = torch.where(pixmis>(data.shape[-1]/8),torch.ones_like(data),torch.zeros_like(data))\n",
        "  return data* pixmis"
      ],
      "metadata": {
        "id": "PoyLRG0OYbNp"
      },
      "execution_count": 16,
      "outputs": []
    },
    {
      "cell_type": "markdown",
      "source": [
        "Load the network model"
      ],
      "metadata": {
        "id": "c6CXAU--gDN1"
      }
    },
    {
      "cell_type": "code",
      "source": [
        "def Load_model():\n",
        "  model_ft = models.resnet50()\n",
        "  num_ftrs = model_ft.fc.in_features\n",
        "  model_ft.fc = nn.Linear(num_ftrs, 10)\n",
        "  inBands = 3\n",
        "  model_ft.conv1 = nn.Conv2d(inBands, 64, kernel_size=7, stride=2, padding = 3, bias = False)\n",
        "  print('Model Loaded')\n",
        "  return model_ft\n"
      ],
      "metadata": {
        "id": "FdBZZkyegE78"
      },
      "execution_count": 17,
      "outputs": []
    },
    {
      "cell_type": "markdown",
      "source": [
        "Calculate the accuracy"
      ],
      "metadata": {
        "id": "5KiU0PWng1-w"
      }
    },
    {
      "cell_type": "code",
      "source": [
        "def accuracy(gt_S,pred_S):\n",
        "  _, alp = torch.max(torch.from_numpy(pred_S), 1)\n",
        "  return accuracy_score(gt_S,np.asarray(alp))"
      ],
      "metadata": {
        "id": "vAaY60pWg3k-"
      },
      "execution_count": 18,
      "outputs": []
    },
    {
      "cell_type": "markdown",
      "source": [
        "Test"
      ],
      "metadata": {
        "id": "Sx41IPyphDMn"
      }
    },
    {
      "cell_type": "code",
      "source": [
        "def validation(model, test_,):\n",
        "    model.eval()\n",
        "    #tot_acc=[]\n",
        "    test_iter=0\n",
        "    with torch.no_grad():\n",
        "        for batch_idx, (data, target) in enumerate(test_):\n",
        "            data, target = custom_aug(Variable(data.cuda())), Variable(target.cuda())\n",
        "            output = model(data)\n",
        "            _, pred = torch.max(output, 1)\n",
        "            pred = output.data.cpu().numpy()\n",
        "            gt = target.data.cpu().numpy()\n",
        "            if test_iter==0:\n",
        "                all_pred=pred\n",
        "                all_gt=gt\n",
        "            else:\n",
        "                all_pred=np.vstack((all_pred,pred))\n",
        "                all_gt  =np.vstack((all_gt,gt))\n",
        "\n",
        "            test_iter=test_iter+1\n",
        "        acc=accuracy(all_gt.reshape(all_gt.shape[0] * all_gt.shape[1]),all_pred)\n",
        "        model.train()\n",
        "        return acc#,cm"
      ],
      "metadata": {
        "id": "J92vRxqbhELX"
      },
      "execution_count": 19,
      "outputs": []
    },
    {
      "cell_type": "markdown",
      "source": [
        "Train the network"
      ],
      "metadata": {
        "id": "5YC3SdgchhD_"
      }
    },
    {
      "cell_type": "code",
      "source": [
        "def train(net, train_, val_, criterion, optimizer, epochs=None, scheduler=None, weights=None, save_epoch = 10):\n",
        "    losses=[]; acc=[]; mean_losses=[]; val_acc=[]\n",
        "    iter_ = t0 =0\n",
        "    for e in range(1, epochs + 1):\n",
        "        net.train()\n",
        "        for batch_idx, (data, target) in enumerate(train_):\n",
        "            data, target =  custom_aug(Variable(data.cuda())), Variable(target.cuda()),\n",
        "            optimizer.zero_grad()\n",
        "            output = net(data)\n",
        "            loss = criterion(output, target)\n",
        "            loss.backward()\n",
        "            optimizer.step()\n",
        "            losses = np.append(losses,loss.item())\n",
        "            mean_losses = np.append(mean_losses, np.mean(losses[max(0,iter_-100):iter_]))\n",
        "            if iter_ % 600 == 0: #printing after 600 epochs\n",
        "                clear_output()\n",
        "                print('Iteration Number',iter_,'{} seconds'.format(time.time() - t0))\n",
        "                t0 = time.time()\n",
        "                pred = output.data.cpu().numpy()#[0]\n",
        "                pred=sigmoid(pred)\n",
        "                gt = target.data.cpu().numpy()#[0]\n",
        "                acc = np.append(acc,accuracy(gt,pred))\n",
        "                print('Train (epoch {}/{}) [{}/{} ({:.0f}%)]\\tLoss: {:.6f}\\tAccuracy: {}\\tLearning Rate:{}'.format(\n",
        "                    e, epochs, batch_idx, len(train_),\n",
        "                    100. * batch_idx / len(train_), loss.item(), acc[-1],optimizer.param_groups[0]['lr']))\n",
        "                plt.plot(mean_losses) and plt.show()\n",
        "                val_acc = np.append(val_acc,validation(net, val_))\n",
        "                print('validation accuracy : {}'.format(val_acc[-1]))\n",
        "                plt.plot( range(len(acc)) ,acc,'b',label = 'training')\n",
        "                plt.plot( range(len(val_acc)), val_acc,'r--',label = 'validation')\n",
        "                plt.legend() and plt.show()\n",
        "                #print(mylabels[np.where(gt[1,:])[0]])\n",
        "            iter_ += 1\n",
        "\n",
        "            del(data, target, loss)\n",
        "        if scheduler is not None:\n",
        "           scheduler.step()\n",
        "        if e % save_epoch == 0:\n",
        "\n",
        "            torch.save(net.state_dict(), '.\\Eurosat{}'.format(e))\n",
        "    return net"
      ],
      "metadata": {
        "id": "xkR4fdpChiDa"
      },
      "execution_count": 20,
      "outputs": []
    },
    {
      "cell_type": "markdown",
      "source": [
        "Calling function"
      ],
      "metadata": {
        "id": "C4WFwX7miMKJ"
      }
    },
    {
      "cell_type": "code",
      "source": [
        "lr = 0.01\n",
        "milestones = [50, 75, 90]\n",
        "epochs = 5\n",
        "\n",
        "if __name__ == '__main__':\n",
        "\ttorch.manual_seed(0)\n",
        "\tnp.random.seed(0)\n",
        "\ttorch.cuda.manual_seed(0)\n",
        "\trandom.seed(0)\n",
        "\tprint(\"pytorch version\", torch.__version__)\n",
        "\tcriteria = torch.nn.CrossEntropyLoss()\n",
        "\tnet = Load_model()\n",
        "\ttrain_loader, val_loader =load_data()\n",
        "\tnet=net.cuda()\n",
        "\toptimizer = optim.Adam(net.parameters(), lr=lr, betas=(0.9, 0.999), eps=1e-08, weight_decay=0, amsgrad=False)\n",
        "\tscheduler = optim.lr_scheduler.MultiStepLR(optimizer, milestones=milestones, gamma=0.1)\n",
        "\tnet = train(net, train_loader, val_loader, criteria, optimizer, epochs, scheduler)\n",
        "\ttest_accuracy = validation(net, val_loader)\n",
        "\tprint('Test Accuracy: {}'.format(test_accuracy))\n"
      ],
      "metadata": {
        "colab": {
          "base_uri": "https://localhost:8080/",
          "height": 932
        },
        "id": "2QK4TOIXiNvS",
        "outputId": "61f08cc5-b683-4464-c6c5-7a9d7e9710fd"
      },
      "execution_count": 21,
      "outputs": [
        {
          "output_type": "stream",
          "name": "stdout",
          "text": [
            "Iteration Number 6600 27.248528957366943 seconds\n",
            "Train (epoch 5/5) [1200/1350 (89%)]\tLoss: 0.711380\tAccuracy: 0.875\tLearning Rate:0.01\n"
          ]
        },
        {
          "output_type": "display_data",
          "data": {
            "text/plain": [
              "<Figure size 640x480 with 1 Axes>"
            ],
            "image/png": "[encoded data removed]"
          },
          "metadata": {}
        },
        {
          "output_type": "stream",
          "name": "stdout",
          "text": [
            "validation accuracy : 0.6005192878338279\n"
          ]
        },
        {
          "output_type": "display_data",
          "data": {
            "text/plain": [
              "<Figure size 640x480 with 1 Axes>"
            ],
            "image/png": "[encoded data removed]"
          },
          "metadata": {}
        },
        {
          "output_type": "stream",
          "name": "stdout",
          "text": [
            "Test Accuracy: 0.6294510385756676\n"
          ]
        }
      ]
    }
  ]
}